{
 "cells": [
  {
   "cell_type": "markdown",
   "id": "0b2188c1-4d88-49c9-9d6e-f2f0ccf0acc9",
   "metadata": {},
   "source": [
    "### 2. 한국어 Word2Vec 만들기(네이버 영화 리뷰)"
   ]
  },
  {
   "cell_type": "code",
   "execution_count": 1,
   "id": "9e8006a9-7eb3-400e-9f1e-236ff7dbe2d9",
   "metadata": {},
   "outputs": [],
   "source": [
    "import pandas as pd\n",
    "import matplotlib.pyplot as plt\n",
    "import urllib.request\n",
    "from gensim.models.word2vec import Word2Vec\n",
    "from konlpy.tag import Okt"
   ]
  },
  {
   "cell_type": "code",
   "execution_count": 2,
   "id": "fdcb62bd-f07f-42e5-b1a3-1c91cbb28e84",
   "metadata": {},
   "outputs": [
    {
     "data": {
      "text/plain": [
       "('../../data/ratings.txt', <http.client.HTTPMessage at 0x406d4eff50>)"
      ]
     },
     "execution_count": 2,
     "metadata": {},
     "output_type": "execute_result"
    }
   ],
   "source": [
    "# 네이버 영화 리뷰 데이터 다운로드\n",
    "urllib.request.urlretrieve(\"https://raw.githubusercontent.com/e9t/nsmc/master/ratings.txt\", filename=\"../../data/ratings.txt\")"
   ]
  },
  {
   "cell_type": "code",
   "execution_count": 3,
   "id": "b532c45c-525c-499e-9050-45413e3a04fd",
   "metadata": {},
   "outputs": [
    {
     "data": {
      "text/html": [
       "<div>\n",
       "<style scoped>\n",
       "    .dataframe tbody tr th:only-of-type {\n",
       "        vertical-align: middle;\n",
       "    }\n",
       "\n",
       "    .dataframe tbody tr th {\n",
       "        vertical-align: top;\n",
       "    }\n",
       "\n",
       "    .dataframe thead th {\n",
       "        text-align: right;\n",
       "    }\n",
       "</style>\n",
       "<table border=\"1\" class=\"dataframe\">\n",
       "  <thead>\n",
       "    <tr style=\"text-align: right;\">\n",
       "      <th></th>\n",
       "      <th>id</th>\n",
       "      <th>document</th>\n",
       "      <th>label</th>\n",
       "    </tr>\n",
       "  </thead>\n",
       "  <tbody>\n",
       "    <tr>\n",
       "      <th>0</th>\n",
       "      <td>8112052</td>\n",
       "      <td>어릴때보고 지금다시봐도 재밌어요ㅋㅋ</td>\n",
       "      <td>1</td>\n",
       "    </tr>\n",
       "    <tr>\n",
       "      <th>1</th>\n",
       "      <td>8132799</td>\n",
       "      <td>디자인을 배우는 학생으로, 외국디자이너와 그들이 일군 전통을 통해 발전해가는 문화산...</td>\n",
       "      <td>1</td>\n",
       "    </tr>\n",
       "    <tr>\n",
       "      <th>2</th>\n",
       "      <td>4655635</td>\n",
       "      <td>폴리스스토리 시리즈는 1부터 뉴까지 버릴께 하나도 없음.. 최고.</td>\n",
       "      <td>1</td>\n",
       "    </tr>\n",
       "    <tr>\n",
       "      <th>3</th>\n",
       "      <td>9251303</td>\n",
       "      <td>와.. 연기가 진짜 개쩔구나.. 지루할거라고 생각했는데 몰입해서 봤다.. 그래 이런...</td>\n",
       "      <td>1</td>\n",
       "    </tr>\n",
       "    <tr>\n",
       "      <th>4</th>\n",
       "      <td>10067386</td>\n",
       "      <td>안개 자욱한 밤하늘에 떠 있는 초승달 같은 영화.</td>\n",
       "      <td>1</td>\n",
       "    </tr>\n",
       "  </tbody>\n",
       "</table>\n",
       "</div>"
      ],
      "text/plain": [
       "         id                                           document  label\n",
       "0   8112052                                어릴때보고 지금다시봐도 재밌어요ㅋㅋ      1\n",
       "1   8132799  디자인을 배우는 학생으로, 외국디자이너와 그들이 일군 전통을 통해 발전해가는 문화산...      1\n",
       "2   4655635               폴리스스토리 시리즈는 1부터 뉴까지 버릴께 하나도 없음.. 최고.      1\n",
       "3   9251303  와.. 연기가 진짜 개쩔구나.. 지루할거라고 생각했는데 몰입해서 봤다.. 그래 이런...      1\n",
       "4  10067386                        안개 자욱한 밤하늘에 떠 있는 초승달 같은 영화.      1"
      ]
     },
     "execution_count": 3,
     "metadata": {},
     "output_type": "execute_result"
    }
   ],
   "source": [
    "trainData = pd.read_table('../../data/ratings.txt')\n",
    "trainData.head()"
   ]
  },
  {
   "cell_type": "code",
   "execution_count": 4,
   "id": "db07d021-ad21-431b-b25f-619f577179f1",
   "metadata": {},
   "outputs": [
    {
     "name": "stdout",
     "output_type": "stream",
     "text": [
      "200000\n"
     ]
    }
   ],
   "source": [
    "print(len(trainData))"
   ]
  },
  {
   "cell_type": "code",
   "execution_count": 5,
   "id": "4ff96ca7-a6b9-457e-a46b-6ddceae25729",
   "metadata": {},
   "outputs": [
    {
     "name": "stdout",
     "output_type": "stream",
     "text": [
      "True\n"
     ]
    }
   ],
   "source": [
    "# NULL 값 존재 유무\n",
    "print(trainData.isnull().values.any())"
   ]
  },
  {
   "cell_type": "code",
   "execution_count": 6,
   "id": "9bf5035d-da09-4ee3-b89e-668822128aed",
   "metadata": {},
   "outputs": [
    {
     "name": "stdout",
     "output_type": "stream",
     "text": [
      "False\n"
     ]
    }
   ],
   "source": [
    "# 결측치 제거\n",
    "trainData = trainData.dropna(how = 'any') # Null 값이 존재하는 행 제거\n",
    "print(trainData.isnull().values.any()) # Null 값이 존재하는지 확인"
   ]
  },
  {
   "cell_type": "code",
   "execution_count": 7,
   "id": "4c9f5917-8cc8-446f-b590-2c590d6b9bdc",
   "metadata": {},
   "outputs": [
    {
     "name": "stdout",
     "output_type": "stream",
     "text": [
      "199992\n"
     ]
    }
   ],
   "source": [
    "print(len(trainData))"
   ]
  },
  {
   "cell_type": "code",
   "execution_count": 8,
   "id": "45a7cc45-5533-4a51-8688-13373e903525",
   "metadata": {},
   "outputs": [
    {
     "name": "stderr",
     "output_type": "stream",
     "text": [
      "/home/student/anaconda3/envs/tf/lib/python3.7/site-packages/ipykernel_launcher.py:2: FutureWarning: The default value of regex will change from True to False in a future version.\n",
      "  \n"
     ]
    }
   ],
   "source": [
    "# 정규 표현식을 통해 한글 외 문자 제거\n",
    "trainData['document'] = trainData['document'].str.replace(\"[^ㄱ-ㅎㅏ-ㅣ가-힣 ]\",\"\")"
   ]
  },
  {
   "cell_type": "code",
   "execution_count": 9,
   "id": "de524e5c-ce98-43df-ad10-d0feb5bb4878",
   "metadata": {},
   "outputs": [
    {
     "data": {
      "text/html": [
       "<div>\n",
       "<style scoped>\n",
       "    .dataframe tbody tr th:only-of-type {\n",
       "        vertical-align: middle;\n",
       "    }\n",
       "\n",
       "    .dataframe tbody tr th {\n",
       "        vertical-align: top;\n",
       "    }\n",
       "\n",
       "    .dataframe thead th {\n",
       "        text-align: right;\n",
       "    }\n",
       "</style>\n",
       "<table border=\"1\" class=\"dataframe\">\n",
       "  <thead>\n",
       "    <tr style=\"text-align: right;\">\n",
       "      <th></th>\n",
       "      <th>id</th>\n",
       "      <th>document</th>\n",
       "      <th>label</th>\n",
       "    </tr>\n",
       "  </thead>\n",
       "  <tbody>\n",
       "    <tr>\n",
       "      <th>0</th>\n",
       "      <td>8112052</td>\n",
       "      <td>어릴때보고 지금다시봐도 재밌어요ㅋㅋ</td>\n",
       "      <td>1</td>\n",
       "    </tr>\n",
       "    <tr>\n",
       "      <th>1</th>\n",
       "      <td>8132799</td>\n",
       "      <td>디자인을 배우는 학생으로 외국디자이너와 그들이 일군 전통을 통해 발전해가는 문화산업...</td>\n",
       "      <td>1</td>\n",
       "    </tr>\n",
       "    <tr>\n",
       "      <th>2</th>\n",
       "      <td>4655635</td>\n",
       "      <td>폴리스스토리 시리즈는 부터 뉴까지 버릴께 하나도 없음 최고</td>\n",
       "      <td>1</td>\n",
       "    </tr>\n",
       "    <tr>\n",
       "      <th>3</th>\n",
       "      <td>9251303</td>\n",
       "      <td>와 연기가 진짜 개쩔구나 지루할거라고 생각했는데 몰입해서 봤다 그래 이런게 진짜 영화지</td>\n",
       "      <td>1</td>\n",
       "    </tr>\n",
       "    <tr>\n",
       "      <th>4</th>\n",
       "      <td>10067386</td>\n",
       "      <td>안개 자욱한 밤하늘에 떠 있는 초승달 같은 영화</td>\n",
       "      <td>1</td>\n",
       "    </tr>\n",
       "  </tbody>\n",
       "</table>\n",
       "</div>"
      ],
      "text/plain": [
       "         id                                           document  label\n",
       "0   8112052                                어릴때보고 지금다시봐도 재밌어요ㅋㅋ      1\n",
       "1   8132799  디자인을 배우는 학생으로 외국디자이너와 그들이 일군 전통을 통해 발전해가는 문화산업...      1\n",
       "2   4655635                   폴리스스토리 시리즈는 부터 뉴까지 버릴께 하나도 없음 최고      1\n",
       "3   9251303   와 연기가 진짜 개쩔구나 지루할거라고 생각했는데 몰입해서 봤다 그래 이런게 진짜 영화지      1\n",
       "4  10067386                         안개 자욱한 밤하늘에 떠 있는 초승달 같은 영화      1"
      ]
     },
     "execution_count": 9,
     "metadata": {},
     "output_type": "execute_result"
    }
   ],
   "source": [
    "trainData.head()"
   ]
  },
  {
   "cell_type": "code",
   "execution_count": 11,
   "id": "e3b1fc42-252d-45b3-8b38-d343597c2029",
   "metadata": {},
   "outputs": [
    {
     "name": "stderr",
     "output_type": "stream",
     "text": [
      "100%|████████████████████████████████████████████████████████████████████████████| 199992/199992 [37:08<00:00, 89.75it/s]\n"
     ]
    }
   ],
   "source": [
    "# 불용어 정의\n",
    "from tqdm import tqdm\n",
    "stopwords = ['의','가','이','은','들','는','좀','잘','걍','과','도','를','으로','자','에','와','한','하다']\n",
    "\n",
    "# 형태소 분석기 OKT를 사용한 토큰화 작업 (다소 시간 소요)\n",
    "okt = Okt()\n",
    "\n",
    "tokenizedData = []\n",
    "for sentence in tqdm(trainData['document']):\n",
    "    tokenizedSentence = okt.morphs(sentence, stem=True) # 토큰화\n",
    "    stopwordsRemovedSentence = [word for word in tokenizedSentence if not word in stopwords] # 불용어 제거\n",
    "    tokenizedData.append(stopwordsRemovedSentence)"
   ]
  },
  {
   "cell_type": "code",
   "execution_count": 12,
   "id": "ea4081b6-9a7a-4465-b4b7-7c55b8d377ad",
   "metadata": {},
   "outputs": [
    {
     "name": "stdout",
     "output_type": "stream",
     "text": [
      "리뷰의 최대 길이 : 72\n",
      "리뷰의 평균 길이 : 10.716703668146726\n"
     ]
    },
    {
     "data": {
      "image/png": "[encoded data removed]",
      "text/plain": [
       "<Figure size 640x480 with 1 Axes>"
      ]
     },
     "metadata": {},
     "output_type": "display_data"
    }
   ],
   "source": [
    "# 토큰화된 상태에서의 통계치 확인\n",
    "\n",
    "# 리뷰 길이 분포 확인\n",
    "print('리뷰의 최대 길이 :',max(len(review) for review in tokenizedData))\n",
    "print('리뷰의 평균 길이 :',sum(map(len, tokenizedData))/len(tokenizedData))\n",
    "plt.hist([len(review) for review in tokenizedData], bins=50)\n",
    "plt.xlabel('length of samples')\n",
    "plt.ylabel('number of samples')\n",
    "plt.show()"
   ]
  },
  {
   "cell_type": "code",
   "execution_count": 13,
   "id": "06c7aa7f-f6f4-4d89-be4c-464ec961c331",
   "metadata": {},
   "outputs": [],
   "source": [
    "# 그래프 셋팅\n",
    "def showGraph(bargraph):\n",
    "    xtick = [item[0] for item in bargraph] # words\n",
    "    ytick = [item[1] for item in bargraph] # 유사도\n",
    "    plt.figure()\n",
    "    mycolors = ['#06c2ac', '#c79fef', '#ff796c', '#aaff32', '#0485d1', '#d648d7', '#a5a502', '#d8dcd6', '#5ca904', '#fffe7a' ]\n",
    "    plt.bar(xtick, ytick, color=mycolors)"
   ]
  },
  {
   "cell_type": "markdown",
   "id": "bde4e88c-9e0b-4a76-9703-b9790b842f5f",
   "metadata": {},
   "source": [
    "##### 네이버 영화 리뷰 데이터 학습(Word2Vec)"
   ]
  },
  {
   "cell_type": "code",
   "execution_count": 14,
   "id": "db24a6b9-49e3-47db-ad1e-70fc206e9542",
   "metadata": {},
   "outputs": [],
   "source": [
    "from gensim.models import Word2Vec"
   ]
  },
  {
   "cell_type": "code",
   "execution_count": 26,
   "id": "463d6cb2-33ec-40c7-bb68-3b1cc76ca728",
   "metadata": {},
   "outputs": [],
   "source": [
    "# 모델 생성하기\n",
    "#model = Word2Vec(sentences = tokenizedData, vector_size = 100, window = 5, min_count = 5, workers = 4, sg = 0)\n",
    "\n",
    "# 기저장된 모델 불러오기\n",
    "model = Word2Vec.load('../../resource/kor_word2vec.model')"
   ]
  },
  {
   "cell_type": "code",
   "execution_count": 27,
   "id": "3734e306-29ef-43f6-9de8-ba77cc60bbba",
   "metadata": {},
   "outputs": [
    {
     "data": {
      "text/plain": [
       "(16477, 100)"
      ]
     },
     "execution_count": 27,
     "metadata": {},
     "output_type": "execute_result"
    }
   ],
   "source": [
    "# 완성된 임베딩 매트릭스의 크기\n",
    "model.wv.vectors.shape"
   ]
  },
  {
   "cell_type": "markdown",
   "id": "11f5922c-6c36-48ab-81ee-72af3edae3e1",
   "metadata": {},
   "source": [
    "### 한글 폰트 설치 및 불러오기\n",
    "-----------------------\n",
    "- 적당한 ttf 글꼴 다운로드(예> D2Coding-Ver1.3.2-20180524-ligature.ttf)\n",
    "- matplotlib 환경설정 폴더로 이동\n",
    "    - print(mpl.matplotlib_fname()) :: 환경설정 폴더 -> fonts/ttf/\n",
    "- matplotlib 캐시 재설정\n",
    "    - print(mpl.get_cachedir()) -> fontlist-v310 파일에서 위 설치한 폴더의 폰트 이름(font_name)을 찾아서 설정\n",
    "    - plt.rcParams['font.family'] = 'D2Coding ligature'"
   ]
  },
  {
   "cell_type": "code",
   "execution_count": 28,
   "id": "56f3cd26-4821-4fc3-94ec-1c5a8afc808e",
   "metadata": {},
   "outputs": [],
   "source": [
    "# 그래프 한글 폰트 처리\n",
    "import matplotlib as mpl\n",
    "\n",
    "plt.rcParams['font.family'] = 'D2Coding ligature'"
   ]
  },
  {
   "cell_type": "code",
   "execution_count": 29,
   "id": "6b879671-9c1d-44ba-9f39-283e54de1e1a",
   "metadata": {},
   "outputs": [
    {
     "name": "stdout",
     "output_type": "stream",
     "text": [
      "[('안성기', 0.8483557105064392), ('채민서', 0.8375873565673828), ('한석규', 0.8320987224578857), ('단역', 0.8246117830276489), ('크리스찬', 0.8218923211097717), ('서영희', 0.8103397488594055), ('임원희', 0.8084965348243713)]\n"
     ]
    }
   ],
   "source": [
    "model_result = model.wv.most_similar('최민식', topn=7)\n",
    "print(model_result)"
   ]
  },
  {
   "cell_type": "code",
   "execution_count": 30,
   "id": "109763ca-a0d3-4318-8b5a-75f6490710d9",
   "metadata": {},
   "outputs": [
    {
     "data": {
      "image/png": "[encoded data removed]",
      "text/plain": [
       "<Figure size 640x480 with 1 Axes>"
      ]
     },
     "metadata": {},
     "output_type": "display_data"
    }
   ],
   "source": [
    "showGraph(model_result)\n",
    "plt.show()"
   ]
  },
  {
   "cell_type": "code",
   "execution_count": 31,
   "id": "1ec744f3-6143-4267-baac-dc5cf48931f3",
   "metadata": {},
   "outputs": [
    {
     "name": "stdout",
     "output_type": "stream",
     "text": [
      "[('슬래셔', 0.8502619862556458), ('느와르', 0.8486109375953674), ('무협', 0.8475209474563599), ('호러', 0.8318272829055786), ('정통', 0.8290469646453857), ('물', 0.8239656686782837), ('블록버스터', 0.8163356781005859)]\n"
     ]
    }
   ],
   "source": [
    "model_result = model.wv.most_similar('히어로', topn=7)\n",
    "print(model_result)"
   ]
  },
  {
   "cell_type": "code",
   "execution_count": 32,
   "id": "3ac92e8c-7c85-4cef-af7d-da67f12a34a1",
   "metadata": {},
   "outputs": [
    {
     "data": {
      "image/png": "[encoded data removed]",
      "text/plain": [
       "<Figure size 640x480 with 1 Axes>"
      ]
     },
     "metadata": {},
     "output_type": "display_data"
    }
   ],
   "source": [
    "showGraph(model_result)\n",
    "plt.show()"
   ]
  },
  {
   "cell_type": "code",
   "execution_count": 33,
   "id": "d550c53f-79e1-4e24-b9f4-534c923d1b72",
   "metadata": {},
   "outputs": [
    {
     "name": "stdout",
     "output_type": "stream",
     "text": [
      "[('웃다', 0.5383194088935852), ('눈물', 0.4926489591598511), ('욕', 0.4665120244026184), ('감동', 0.4533455967903137), ('영화관', 0.44220665097236633), ('교훈', 0.4289604127407074), ('미소', 0.39130187034606934), ('여운', 0.38710829615592957), ('재미', 0.385328471660614), ('슬프다', 0.37630900740623474)]\n"
     ]
    }
   ],
   "source": [
    "model_result = model.wv.most_similar(positive=['극장', '웃음'], negative=['학원'], topn=10)\n",
    "print(model_result)"
   ]
  },
  {
   "cell_type": "code",
   "execution_count": 34,
   "id": "590710e9-dede-4a21-b764-b60ba1b4c42e",
   "metadata": {},
   "outputs": [
    {
     "data": {
      "image/png": "[encoded data removed]",
      "text/plain": [
       "<Figure size 640x480 with 1 Axes>"
      ]
     },
     "metadata": {},
     "output_type": "display_data"
    }
   ],
   "source": [
    "showGraph(model_result)\n",
    "plt.show()"
   ]
  },
  {
   "cell_type": "code",
   "execution_count": 36,
   "id": "d9f3ed45-1b0a-4a0f-9629-2475daf12722",
   "metadata": {},
   "outputs": [
    {
     "name": "stdout",
     "output_type": "stream",
     "text": [
      "[('무협', 0.7837238311767578), ('틴', 0.7723041772842407), ('느와르', 0.7640644907951355), ('로코', 0.7634316682815552), ('슬래셔', 0.7617172002792358), ('정통', 0.7596845626831055), ('히어로', 0.756429135799408), ('하이', 0.751818835735321), ('블록버스터', 0.7461071014404297), ('멜로', 0.7390706539154053)]\n"
     ]
    }
   ],
   "source": [
    "model_result = model.wv.most_similar(positive=['코믹','호러'], negative=['웃음'], topn=10)\n",
    "print(model_result)"
   ]
  },
  {
   "cell_type": "code",
   "execution_count": 35,
   "id": "2ad37b9e-e6c3-4ec2-bf59-78394f938c52",
   "metadata": {},
   "outputs": [],
   "source": [
    "model.save('../../resource/kor_word2vec.model')"
   ]
  },
  {
   "cell_type": "code",
   "execution_count": null,
   "id": "a1cf367f-5dcb-4c9b-aee2-0f51a5b40d4c",
   "metadata": {},
   "outputs": [],
   "source": []
  }
 ],
 "metadata": {
  "kernelspec": {
   "display_name": "Python 3 (ipykernel)",
   "language": "python",
   "name": "python3"
  },
  "language_info": {
   "codemirror_mode": {
    "name": "ipython",
    "version": 3
   },
   "file_extension": ".py",
   "mimetype": "text/x-python",
   "name": "python",
   "nbconvert_exporter": "python",
   "pygments_lexer": "ipython3",
   "version": "3.7.13"
  }
 },
 "nbformat": 4,
 "nbformat_minor": 5
}
