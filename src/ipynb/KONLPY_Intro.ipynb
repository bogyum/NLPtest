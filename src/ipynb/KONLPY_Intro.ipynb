{
 "cells": [
  {
   "cell_type": "markdown",
   "id": "44d1ed9e-dd28-4d2d-a06e-5c924073804c",
   "metadata": {},
   "source": [
    "# konlpy 를 이용한 한국어 텍스트 분석\n",
    "\n",
    "* 선행작업\n",
    "    - apt install openjdk python-dev-is-python3 \n",
    "    - pip install konlpy"
   ]
  },
  {
   "cell_type": "code",
   "execution_count": 1,
   "id": "9af6a490-777a-4768-8a32-300b60524dbe",
   "metadata": {},
   "outputs": [],
   "source": [
    "from collections import Counter  # 단어 카운트 라이브러리\n",
    "from wordcloud import WordCloud  # 워드클라우드 라이브러리\n",
    "from konlpy.tag import Okt       # 트위터 기반 한국어 형태소 분석기 || 이외에도 오픈 라이브러리로 제공되는 Hannanum, kkma, Komoran, Mecab 등이 있음\n",
    "import nltk                      # nltk 라이브러리"
   ]
  },
  {
   "cell_type": "markdown",
   "id": "bdea49e1-3006-4175-9b93-5eb72c35901b",
   "metadata": {},
   "source": [
    "## 워드 클라우드 생성 함수\n",
    "* 선행작업\n",
    "    - 한글 출력을 위한 폰트 다운로드(여기에선 D2Coding style)"
   ]
  },
  {
   "cell_type": "code",
   "execution_count": 2,
   "id": "13bba830-2576-4bf7-b16c-315874e254e1",
   "metadata": {},
   "outputs": [],
   "source": [
    "def wordcloud_from_text(input_file, output_file='../output/wordcloud.png', method=0):\n",
    "    # get text from file\n",
    "    try:\n",
    "        with open(input_file, 'rb') as f:\n",
    "            text = f.read().decode('utf-8')\n",
    "    except Exception as e:\n",
    "        print('wordcloud_from_text() - %s' %(e))\n",
    "        return\n",
    "    \n",
    "    # 예외처리\n",
    "    if text == None:\n",
    "        print('wordcloud_from_text() text is None')\n",
    "        return\n",
    "\n",
    "    # 명사구 추출\n",
    "    noun_list = get_noun_list(text, method)\n",
    "    \n",
    "    # 예외처리 2\n",
    "    if len(noun_list) < 10:\n",
    "        print('wordcloud_from_text() - Too small noun list')\n",
    "        return\n",
    "    \n",
    "    # 워드 클라우드 생성\n",
    "    wc = WordCloud(font_path = '../../resource/D2Coding-Ver1.3.2-20180524-ligature.ttf',\n",
    "                       background_color = 'black',\n",
    "                       width=512, height=512,\n",
    "                       max_font_size=500,\n",
    "                       max_words=1000)\n",
    "    wc.generate_from_frequencies(dict(noun_list))\n",
    "    wc.to_file(output_file)\n",
    "    print('Create WordCloud:', output_file)"
   ]
  },
  {
   "cell_type": "markdown",
   "id": "780298e9-852c-41d4-a7a0-4d76b8c3cffd",
   "metadata": {},
   "source": [
    "## 명사구 추출 함수"
   ]
  },
  {
   "cell_type": "code",
   "execution_count": 3,
   "id": "ba9acbde-9059-4890-89ec-ab2c0a32ad38",
   "metadata": {},
   "outputs": [],
   "source": [
    "def get_noun_list(text, method=0):\n",
    "    # Sentence to token\n",
    "    if method == 0:\n",
    "        # 한국어\n",
    "        noun = tokenizer_konlpy(text)\n",
    "    else :\n",
    "        # 영어\n",
    "        noun = tokenizer_nltk(text)\n",
    "    \n",
    "    # Count word\n",
    "    count = Counter(noun)\n",
    "    \n",
    "    # Get most frequent words\n",
    "    noun_list = count.most_common(3000)\n",
    "    return noun_list"
   ]
  },
  {
   "cell_type": "markdown",
   "id": "ac07e729-f3c5-4480-837f-e8a7ff633659",
   "metadata": {},
   "source": [
    "## Tokenizer"
   ]
  },
  {
   "cell_type": "code",
   "execution_count": 4,
   "id": "6d8c3c83-5f68-4690-8cb8-28f5d4da8aed",
   "metadata": {},
   "outputs": [],
   "source": [
    "def tokenizer_nltk(text): # 영어\n",
    "    \n",
    "    is_noun = lambda pos : (pos[:2] == 'NN' or pos[:2] == 'NNP')\n",
    "    tokenized = nltk.word_tokenize(text)\n",
    "    \n",
    "    return [word for (word, pos) in nltk.pos_tag(tokenized) if is_noun(pos)]"
   ]
  },
  {
   "cell_type": "markdown",
   "id": "76ba28fe-1491-48f7-8d6b-277cef8bd972",
   "metadata": {},
   "source": [
    "### 한국어 분석 방법\n",
    "- 한국어 형태소 분석기에서 주로 사용하게 되는 모듈은 다음과 같다\n",
    "    - morphs() : 형태소 목록\n",
    "    - analyze() : 어절단위 형태소 분석(morpheme analysis)\n",
    "    - pos() : 문장단위 형태소 분석(part-of-speech tagging)\n",
    "    - nouns() : 명사 단위 어휘 토큰"
   ]
  },
  {
   "cell_type": "code",
   "execution_count": 5,
   "id": "29c262d8-1b80-4000-9e83-e125ee87fc94",
   "metadata": {},
   "outputs": [],
   "source": [
    "def tokenizer_konlpy(text): # 한글\n",
    "    okt = Okt()\n",
    "    return [word for word in okt.nouns(text) if len(word) > 1 ]"
   ]
  },
  {
   "cell_type": "markdown",
   "id": "38f56bc2-faa5-4bc5-aa00-b2dc4ff7cd22",
   "metadata": {},
   "source": [
    "## Main function"
   ]
  },
  {
   "cell_type": "code",
   "execution_count": 7,
   "id": "f0affa8a-effd-4f08-956e-cff915f50175",
   "metadata": {},
   "outputs": [
    {
     "name": "stdout",
     "output_type": "stream",
     "text": [
      "Create WordCloud: ../../output/Nohs.png\n"
     ]
    }
   ],
   "source": [
    "if __name__ == '__main__' :\n",
    "    wordcloud_from_text(input_file = \"../../data/Nohs_test.txt\", output_file=\"../../output/Nohs.png\", method=0)"
   ]
  },
  {
   "cell_type": "code",
   "execution_count": null,
   "id": "db4785b8-22e8-4195-9a46-d1f34c8d3ad0",
   "metadata": {},
   "outputs": [],
   "source": []
  }
 ],
 "metadata": {
  "kernelspec": {
   "display_name": "Python 3 (ipykernel)",
   "language": "python",
   "name": "python3"
  },
  "language_info": {
   "codemirror_mode": {
    "name": "ipython",
    "version": 3
   },
   "file_extension": ".py",
   "mimetype": "text/x-python",
   "name": "python",
   "nbconvert_exporter": "python",
   "pygments_lexer": "ipython3",
   "version": "3.7.13"
  }
 },
 "nbformat": 4,
 "nbformat_minor": 5
}
